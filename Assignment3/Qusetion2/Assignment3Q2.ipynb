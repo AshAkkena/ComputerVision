{
 "cells": [
  {
   "cell_type": "code",
   "execution_count": 1,
   "metadata": {},
   "outputs": [],
   "source": [
    "import cv2\n",
    "import glob\n",
    "import numpy as np\n",
    "import matplotlib.pyplot as plt\n",
    "from scipy.signal import fftconvolve,convolve2d\n",
    "import math\n",
    "from PIL import Image\n",
    "import numpy as np \n",
    "import copy\n",
    "from collections import deque"
   ]
  },
  {
   "cell_type": "code",
   "execution_count": 2,
   "metadata": {},
   "outputs": [],
   "source": [
    "def image_registration(img1, img2):\n",
    "    img1_color = cv2.imread(img1)\n",
    "    img2_color = cv2.imread(img2)\n",
    "    img1 = cv2.cvtColor(img1_color, cv2.COLOR_BGR2GRAY)\n",
    "    img2 = cv2.cvtColor(img2_color, cv2.COLOR_BGR2GRAY)\n",
    "    height, width = img2.shape\n",
    "    orb_detector = cv2.ORB_create(5000)\n",
    "    kp1, d1 = orb_detector.detectAndCompute(img1, None)\n",
    "    kp2, d2 = orb_detector.detectAndCompute(img2, None)\n",
    "    matcher = cv2.BFMatcher(cv2.NORM_HAMMING, crossCheck = True)\n",
    "    matches = matcher.match(d1, d2)\n",
    "    matches.sorted(key = lambda x: x.distance)\n",
    "    matches = matches[:int(len(matches)*0.9)]\n",
    "    no_of_matches = len(matches)\n",
    "    p1 = np.zeros((no_of_matches, 2))\n",
    "    p2 = np.zeros((no_of_matches, 2))\n",
    "\n",
    "    for i in range(len(matches)):\n",
    "      p1[i, :] = kp1[matches[i].queryIdx].pt\n",
    "      p2[i, :] = kp2[matches[i].trainIdx].pt\n",
    "    homography, mask = cv2.findHomography(p1, p2, cv2.RANSAC)\n",
    "    transformed_img = cv2.warpPerspective(img1_color,homography, (width, height))\n",
    "    plt.axis('off')\n",
    "    plt.imshow(transformed_img,cmap='gray', vmin=0, vmax=255)\n",
    "    plt.show()"
   ]
  },
  {
   "cell_type": "code",
   "execution_count": 3,
   "metadata": {},
   "outputs": [
    {
     "name": "stderr",
     "output_type": "stream",
     "text": [
      "C:\\Users\\Harsh\\AppData\\Local\\Temp\\ipykernel_13452\\2992858355.py:15: RuntimeWarning: divide by zero encountered in divide\n",
      "  u=np.divide(It,np.sqrt(np.square(Ix)+np.square(Iy)))\n",
      "C:\\Users\\Harsh\\AppData\\Local\\Temp\\ipykernel_13452\\2992858355.py:15: RuntimeWarning: invalid value encountered in divide\n",
      "  u=np.divide(It,np.sqrt(np.square(Ix)+np.square(Iy)))\n"
     ]
    },
    {
     "name": "stdout",
     "output_type": "stream",
     "text": [
      "Motion function estamite for frame0 frame30[[      inf       inf  91.00001 ...       inf       inf       inf]\n",
      " [      inf       inf  91.00001 ...       inf       inf       inf]\n",
      " [129.40056 129.40056 127.98634 ...       inf       inf       inf]\n",
      " ...\n",
      " [      inf       inf       inf ...       inf       inf       inf]\n",
      " [      inf       inf       inf ...       inf       inf       inf]\n",
      " [      inf       inf       inf ...       inf       inf       inf]]\n",
      "Motion function estamite for frame30 frame60[[       inf        inf        inf ...        inf        inf        inf]\n",
      " [       inf        inf        inf ...        inf        inf        inf]\n",
      " [       inf        inf        inf ...        inf        inf        inf]\n",
      " ...\n",
      " [ 85.55993   85.55993   86.974144 ... 282.13562  201.5      202.00002 ]\n",
      " [ 86.97422   86.974144        inf ...        inf        inf        inf]\n",
      " [       inf        inf        inf ...        inf        inf        inf]]\n",
      "Motion function estamite for frame60 frame90[[      inf       inf       inf ... 290.6209        inf       inf]\n",
      " [      inf       inf       inf ... 290.6209        inf       inf]\n",
      " [      inf       inf       inf ...       inf       inf       inf]\n",
      " ...\n",
      " [      inf       inf       inf ... 184.50002 260.92242 131.52188]\n",
      " [      inf       inf       inf ... 185.00002 185.00002 187.00002]\n",
      " [      inf       inf       inf ... 262.33664 131.52188 132.93608]]\n",
      "Motion function estamite for frame90 frame120[[      inf       inf       inf ...       inf       inf       inf]\n",
      " [      inf       inf       inf ...       inf       inf       inf]\n",
      " [      inf       inf       inf ...       inf       inf       inf]\n",
      " ...\n",
      " [      inf       inf       inf ... 303.34885       inf       inf]\n",
      " [      inf       inf       inf ...       inf       inf       inf]\n",
      " [      inf       inf       inf ...       inf       inf       inf]]\n",
      "Motion function estamite for frame120 frame150[[      inf       inf       inf ... 293.44934       inf       inf]\n",
      " [      inf       inf       inf ... 293.44934       inf       inf]\n",
      " [      inf       inf       inf ... 292.03513 207.00002 207.00002]\n",
      " ...\n",
      " [      inf       inf       inf ...       inf 255.99806       inf]\n",
      " [544.4723  545.8865        inf ... 255.99806 362.03455 362.74585]\n",
      " [384.50006 385.50003       inf ...       inf 362.74585 363.45572]]\n",
      "Motion function estamite for frame150 frame180[[       inf        inf 569.22107  ...        inf        inf        inf]\n",
      " [       inf        inf 569.22534  ...        inf        inf        inf]\n",
      " [       inf        inf        inf ...        inf        inf        inf]\n",
      " ...\n",
      " [540.9367   543.76514         inf ...  84.59113   85.065094  90.666664]\n",
      " [541.6397   543.0539   544.4723   ...  86.33     107.66808  138.25002 ]\n",
      " [543.05804  541.6438   543.0539   ... 391.0331          inf 392.44434 ]]\n",
      "Motion function estamite for frame180 frame210[[      inf       inf       inf ...       inf       inf       inf]\n",
      " [      inf       inf       inf ...       inf       inf       inf]\n",
      " [      inf       inf       inf ...       inf       inf       inf]\n",
      " ...\n",
      " [381.50003 380.50006 539.5225  ... 426.38544 212.13126 212.13124]\n",
      " [541.648   537.40533 540.23376 ... 213.19353 212.13124 423.55377]\n",
      " [543.05804 538.81537 538.8154  ... 136.17615 118.84674 101.00001]]\n",
      "Motion function estamite for frame210 frame240[[      inf       inf       inf ...       inf       inf       inf]\n",
      " [      inf       inf       inf ...       inf       inf       inf]\n",
      " [      inf       inf       inf ...       inf       inf       inf]\n",
      " ...\n",
      " [530.33014 528.9159  372.50006 ... 313.      313.      313.     ]\n",
      " [236.85497 236.85497 525.3764  ... 441.94177       inf       inf]\n",
      " [236.53839 235.90594 524.6733  ... 198.9082  198.27483 313.00003]]\n"
     ]
    }
   ],
   "source": [
    "def motionTrackingFunction(img1,img2):\n",
    "    Iref=img1\n",
    "    Inext=img2\n",
    "    Iref=np.array(Iref).astype(np.float32)\n",
    "    Inext=np.array(Inext).astype(np.float32)\n",
    "    kernel_x = np.array([[-1., 1.], [-1., 1.]])*.25\n",
    "    kernel_y = np.array([[-1., -1.], [1., 1.]])*.25\n",
    "    kernel_t = np.array([[1., 1.], [1., 1.]])*.25\n",
    "    Iref = Iref / 255. \n",
    "    Inext = Inext / 255. \n",
    "    Ix=cv2.filter2D(Iref,-1,kernel=kernel_x)\n",
    "    Iy=cv2.filter2D(Iref,-1,kernel=kernel_y)\n",
    "    It=cv2.filter2D(Iref,-1,kernel=kernel_t)+cv2.filter2D(Inext,-1,kernel=kernel_x)\n",
    "    Ix,Iy,It=np.array(Ix),np.array(Iy),np.array(It)\n",
    "    u=np.divide(It,np.sqrt(np.square(Ix)+np.square(Iy)))\n",
    "    return u\n",
    "\n",
    "for i in range(0,240,30):\n",
    "    Iref=cv2.imread(r'D:\\GSU\\CV\\Assignment3_Harshith\\Qusetion2\\frammed\\frame%d.jpg'%i,cv2.IMREAD_GRAYSCALE)\n",
    "    Inext=cv2.imread(r'D:\\GSU\\CV\\Assignment3_Harshith\\Qusetion2\\frammed\\frame%d.jpg'%(i+30),cv2.IMREAD_GRAYSCALE)\n",
    "    print(\"Motion function estamite for frame\" + str(i) + \" frame\" + str(i+30) + str(motionTrackingFunction(Iref,Inext)))"
   ]
  }
 ],
 "metadata": {
  "kernelspec": {
   "display_name": "Python 3.10.8 64-bit (microsoft store)",
   "language": "python",
   "name": "python3"
  },
  "language_info": {
   "codemirror_mode": {
    "name": "ipython",
    "version": 3
   },
   "file_extension": ".py",
   "mimetype": "text/x-python",
   "name": "python",
   "nbconvert_exporter": "python",
   "pygments_lexer": "ipython3",
   "version": "3.10.8"
  },
  "orig_nbformat": 4,
  "vscode": {
   "interpreter": {
    "hash": "88c714d5afd712d710fb46df3f5af6f959e0801d8ec3bbfed28a2c99337a8699"
   }
  }
 },
 "nbformat": 4,
 "nbformat_minor": 2
}
